{
 "cells": [
  {
   "cell_type": "code",
   "execution_count": null,
   "metadata": {},
   "outputs": [],
   "source": [
    "# show example of dictionary\n",
    "top_traders_2020 = {\n",
    "   \"jun\" : \"jordan belfort\",\n",
    "    \"jul\" : \"donnie azoff\",\n",
    "    \"aug\" : \"naomi lapaglia\"\n",
    "}\n",
    "\n"
   ]
  },
  {
   "cell_type": "code",
   "execution_count": 1,
   "metadata": {},
   "outputs": [],
   "source": [
    "# trading log\n",
    "close_price = {\n",
    "    \"title\": \"trading log\",\n",
    "    \"06-18-2020\": -224,\n",
    "    \"06-19-2020\": 352,\n",
    "    \"06-20-2020\": 252,\n",
    "    \"06-21-2020\": 354,\n",
    "    \"06-22-2020\": -544,\n",
    "    \"06-23-2020\": -650,\n",
    "    \"06-24-2020\": 56,\n",
    "    \"06-25-2020\": 123,\n",
    "    \"06-26-2020\": -43,\n",
    "    \"06-27-2020\": 254,\n",
    "    \"06-28-2020\": 325,\n",
    "    \"06-29-2020\": -123,\n",
    "    \"06-30-2020\": 47,\n",
    "    \"07-01-2020\": 123,\n",
    "    \"07-02-2020\": 133,\n",
    "    \"07-03-2020\": -151,\n",
    "    \"07-05-2020\": 232,\n",
    "    \"07-06-2020\": -311,\n",
    "    \"07-07-2020\": 321,\n",
    "    \"07-08-2020\": 613    \n",
    "}"
   ]
  },
  {
   "cell_type": "code",
   "execution_count": 2,
   "metadata": {},
   "outputs": [
    {
     "name": "stdout",
     "output_type": "stream",
     "text": [
      "{'title': 'trading log', '06-18-2020': -224, '06-19-2020': 352, '06-20-2020': 252, '06-21-2020': 354, '06-22-2020': -544, '06-23-2020': -650, '06-24-2020': 56, '06-25-2020': 123, '06-26-2020': -43, '06-27-2020': 254, '06-28-2020': 325, '06-29-2020': -123, '06-30-2020': 47, '07-01-2020': 123, '07-02-2020': 133, '07-03-2020': -151, '07-05-2020': 232, '07-06-2020': -311, '07-07-2020': 321, '07-08-2020': 613}\n"
     ]
    }
   ],
   "source": [
    "print(close_price)"
   ]
  },
  {
   "cell_type": "code",
   "execution_count": 3,
   "metadata": {},
   "outputs": [
    {
     "name": "stdout",
     "output_type": "stream",
     "text": [
      "613\n"
     ]
    }
   ],
   "source": [
    "# print close price for july 8th\n",
    "print(close_price['07-08-2020'])\n"
   ]
  },
  {
   "cell_type": "code",
   "execution_count": 5,
   "metadata": {},
   "outputs": [
    {
     "name": "stdout",
     "output_type": "stream",
     "text": [
      "{'title': 'trading log', '06-18-2020': -224, '06-19-2020': 352, '06-20-2020': 252, '06-21-2020': 354, '06-22-2020': -544, '06-23-2020': -650, '06-24-2020': 56, '06-25-2020': 123, '06-26-2020': -43, '06-27-2020': 254, '06-28-2020': 325, '06-29-2020': -123, '06-30-2020': 47, '07-01-2020': 123, '07-02-2020': 133, '07-03-2020': -151, '07-05-2020': 232, '07-06-2020': -311, '07-07-2020': 321, '07-08-2020': 613, '07-09-2020': 412}\n"
     ]
    }
   ],
   "source": [
    "# add close price for july 9th\n",
    "close_price['07-09-2020'] = 412\n",
    "print(close_price)"
   ]
  },
  {
   "cell_type": "code",
   "execution_count": 7,
   "metadata": {},
   "outputs": [
    {
     "name": "stdout",
     "output_type": "stream",
     "text": [
      "{'title': 'trading log', '06-18-2020': -224, '06-19-2020': 352, '06-20-2020': 252, '06-21-2020': 354, '06-22-2020': -544, '06-23-2020': -650, '06-24-2020': 56, '06-25-2020': 123, '06-26-2020': -43, '06-27-2020': 254, '06-28-2020': 325, '06-29-2020': -123, '06-30-2020': 47, '07-01-2020': 123, '07-02-2020': 133, '07-03-2020': -151, '07-05-2020': 232, '07-06-2020': -311, '07-07-2020': 321, '07-08-2020': 613, '07-09-2020': 542}\n"
     ]
    }
   ],
   "source": [
    "# fix july 9th close price; change to 542\n",
    "close_price['07-09-2020'] = 542\n",
    "print(close_price)\n"
   ]
  },
  {
   "cell_type": "code",
   "execution_count": 8,
   "metadata": {},
   "outputs": [
    {
     "name": "stdout",
     "output_type": "stream",
     "text": [
      "{'title': 'trading log', '06-18-2020': -224, '06-19-2020': 352, '06-20-2020': 252, '06-21-2020': 354, '06-22-2020': -544, '06-23-2020': -650, '06-24-2020': 56, '06-25-2020': 123, '06-26-2020': -43, '06-27-2020': 254, '06-28-2020': 325, '06-29-2020': -123, '06-30-2020': 47, '07-01-2020': 123, '07-02-2020': 133, '07-03-2020': -151, '07-05-2020': 232, '07-06-2020': -311, '07-07-2020': 321, '07-08-2020': 613}\n"
     ]
    }
   ],
   "source": [
    "# delete july 9th\n",
    "\n",
    "del close_price['07-09-2020']\n",
    "print(close_price)"
   ]
  },
  {
   "cell_type": "code",
   "execution_count": 12,
   "metadata": {},
   "outputs": [
    {
     "name": "stdout",
     "output_type": "stream",
     "text": [
      "NO!\n"
     ]
    }
   ],
   "source": [
    "# check if july 8th exists **\n",
    "if \"07-09-2020\" in close_price:\n",
    "    print(\"YES! '07-08-2020' is one of the keys in the dictionary\")\n",
    "else:\n",
    "    print(\"NO!\")"
   ]
  },
  {
   "cell_type": "code",
   "execution_count": 13,
   "metadata": {},
   "outputs": [
    {
     "name": "stdout",
     "output_type": "stream",
     "text": [
      "Key: title\n",
      "Key: 06-18-2020\n",
      "Key: 06-19-2020\n",
      "Key: 06-20-2020\n",
      "Key: 06-21-2020\n",
      "Key: 06-22-2020\n",
      "Key: 06-23-2020\n",
      "Key: 06-24-2020\n",
      "Key: 06-25-2020\n",
      "Key: 06-26-2020\n",
      "Key: 06-27-2020\n",
      "Key: 06-28-2020\n",
      "Key: 06-29-2020\n",
      "Key: 06-30-2020\n",
      "Key: 07-01-2020\n",
      "Key: 07-02-2020\n",
      "Key: 07-03-2020\n",
      "Key: 07-05-2020\n",
      "Key: 07-06-2020\n",
      "Key: 07-07-2020\n",
      "Key: 07-08-2020\n"
     ]
    }
   ],
   "source": [
    "# print all dates in trading log **\n",
    "for key in close_price:\n",
    "    print(f\"Key: {key}\")\n"
   ]
  },
  {
   "cell_type": "code",
   "execution_count": null,
   "metadata": {},
   "outputs": [],
   "source": []
  },
  {
   "cell_type": "code",
   "execution_count": null,
   "metadata": {},
   "outputs": [],
   "source": []
  }
 ],
 "metadata": {
  "kernelspec": {
   "display_name": "Python 3",
   "language": "python",
   "name": "python3"
  },
  "language_info": {
   "codemirror_mode": {
    "name": "ipython",
    "version": 3
   },
   "file_extension": ".py",
   "mimetype": "text/x-python",
   "name": "python",
   "nbconvert_exporter": "python",
   "pygments_lexer": "ipython3",
   "version": "3.7.7"
  }
 },
 "nbformat": 4,
 "nbformat_minor": 4
}
