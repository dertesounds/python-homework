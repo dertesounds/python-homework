{
 "cells": [
  {
   "cell_type": "code",
   "execution_count": 1,
   "metadata": {},
   "outputs": [],
   "source": [
    "banks = {\"jpmc\": 327,\n",
    "         \"boa\": 302,\n",
    "         \"citi\": 173,\n",
    "         \"wells\": 273,\n",
    "         \"goldman\": 87,\n",
    "         \"morgans\": 72,\n",
    "         \"usbancorp\": 83,\n",
    "         \"td\": 108,\n",
    "         \"pnc\": 67,\n",
    "         \"capone\": 47,\n",
    "         \"fnb\": 4,\n",
    "         \"firsthawaii\": 3,\n",
    "         \"ally\": 12,\n",
    "         \"wach\": 145,\n",
    "         \"republic\": .97\n",
    "         \n",
    "}"
   ]
  },
  {
   "cell_type": "code",
   "execution_count": 2,
   "metadata": {},
   "outputs": [
    {
     "name": "stdout",
     "output_type": "stream",
     "text": [
      "{'jpmc': 327, 'boa': 302, 'citi': 173, 'wells': 273, 'goldman': 87, 'morgans': 72, 'usbancorp': 83, 'td': 108, 'pnc': 67, 'capone': 47, 'fnb': 4, 'firsthawaii': 3, 'ally': 12, 'wach': 145, 'republic': 0.97}\n"
     ]
    }
   ],
   "source": [
    "print(banks)"
   ]
  },
  {
   "cell_type": "code",
   "execution_count": 3,
   "metadata": {},
   "outputs": [],
   "source": [
    "banks[\"citi\"] = 180"
   ]
  },
  {
   "cell_type": "code",
   "execution_count": 4,
   "metadata": {},
   "outputs": [
    {
     "ename": "SyntaxError",
     "evalue": "invalid syntax (<ipython-input-4-9b7ed9bca753>, line 1)",
     "output_type": "error",
     "traceback": [
      "\u001b[0;36m  File \u001b[0;32m\"<ipython-input-4-9b7ed9bca753>\"\u001b[0;36m, line \u001b[0;32m1\u001b[0m\n\u001b[0;31m    banks =\u001b[0m\n\u001b[0m           ^\u001b[0m\n\u001b[0;31mSyntaxError\u001b[0m\u001b[0;31m:\u001b[0m invalid syntax\n"
     ]
    }
   ],
   "source": [
    "banks ="
   ]
  },
  {
   "cell_type": "code",
   "execution_count": 6,
   "metadata": {},
   "outputs": [
    {
     "name": "stdout",
     "output_type": "stream",
     "text": [
      "citi\n"
     ]
    }
   ],
   "source": [
    "print(\"citi\")"
   ]
  },
  {
   "cell_type": "code",
   "execution_count": 7,
   "metadata": {},
   "outputs": [
    {
     "name": "stdout",
     "output_type": "stream",
     "text": [
      "180\n"
     ]
    }
   ],
   "source": [
    "print(banks[\"citi\"])"
   ]
  },
  {
   "cell_type": "code",
   "execution_count": 9,
   "metadata": {},
   "outputs": [],
   "source": [
    "banks[\"lonestar\"] = 99"
   ]
  },
  {
   "cell_type": "code",
   "execution_count": 10,
   "metadata": {},
   "outputs": [
    {
     "name": "stdout",
     "output_type": "stream",
     "text": [
      "{'jpmc': 327, 'boa': 302, 'citi': 180, 'wells': 273, 'goldman': 87, 'morgans': 72, 'usbancorp': 83, 'td': 108, 'pnc': 67, 'capone': 47, 'fnb': 4, 'firsthawaii': 3, 'ally': 12, 'wach': 145, 'republic': 0.97, 'lonestar': 99}\n"
     ]
    }
   ],
   "source": [
    "print(banks)"
   ]
  },
  {
   "cell_type": "code",
   "execution_count": 11,
   "metadata": {},
   "outputs": [],
   "source": [
    "del banks[\"lonestar\"]"
   ]
  },
  {
   "cell_type": "code",
   "execution_count": 12,
   "metadata": {},
   "outputs": [
    {
     "name": "stdout",
     "output_type": "stream",
     "text": [
      "{'jpmc': 327, 'boa': 302, 'citi': 180, 'wells': 273, 'goldman': 87, 'morgans': 72, 'usbancorp': 83, 'td': 108, 'pnc': 67, 'capone': 47, 'fnb': 4, 'firsthawaii': 3, 'ally': 12, 'wach': 145, 'republic': 0.97}\n"
     ]
    }
   ],
   "source": [
    "print(banks)"
   ]
  },
  {
   "cell_type": "code",
   "execution_count": null,
   "metadata": {},
   "outputs": [],
   "source": []
  }
 ],
 "metadata": {
  "kernelspec": {
   "display_name": "Python 3",
   "language": "python",
   "name": "python3"
  },
  "language_info": {
   "codemirror_mode": {
    "name": "ipython",
    "version": 3
   },
   "file_extension": ".py",
   "mimetype": "text/x-python",
   "name": "python",
   "nbconvert_exporter": "python",
   "pygments_lexer": "ipython3",
   "version": "3.8.3"
  }
 },
 "nbformat": 4,
 "nbformat_minor": 4
}
