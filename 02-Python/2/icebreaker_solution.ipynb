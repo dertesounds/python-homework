{
 "cells": [
  {
   "cell_type": "code",
   "execution_count": 7,
   "metadata": {},
   "outputs": [
    {
     "name": "stdout",
     "output_type": "stream",
     "text": [
      "minimum purchase of $30 required!\n",
      "minimum purchase of $30 required!\n"
     ]
    }
   ],
   "source": [
    "# icebreaker 1:\n",
    "# set variables\n",
    "payment_type = \"ApplePay\"\n",
    "\n",
    "\n",
    "# rules option 1 using in\n",
    "if payment_type == \"AMEX\":\n",
    "    print(\"minimum purchase of $25 required!\")\n",
    "elif payment_type in (\"ApplePay\", \"PayPal\"):\n",
    "    print(\"minimum purchase of $30 required!\")\n",
    "else:\n",
    "    print(\"shop away!\")\n",
    "    \n",
    "# rules option 2 using or\n",
    "if payment_type == \"AMEX\":\n",
    "    print(\"minimum purchase of $25 required!\")\n",
    "elif payment_type == \"ApplePay\" or payment_type == \"PayPal\":\n",
    "    print(\"minimum purchase of $30 required!\")\n",
    "else:\n",
    "    print(\"shop away!\")\n",
    "    "
   ]
  },
  {
   "cell_type": "code",
   "execution_count": 12,
   "metadata": {},
   "outputs": [
    {
     "name": "stdout",
     "output_type": "stream",
     "text": [
      "p is for pot belly pig\n",
      "l is for lava lamp\n",
      "a is for apricot colored pants\n",
      "t is for tuna fish sandwich\n",
      "i is for iguana\n",
      "n is for no spill coffee cup\n",
      "u is for unicycle\n",
      "m is for moon rock\n"
     ]
    }
   ],
   "source": [
    "# icebreaker 2:\n",
    "\n",
    "for letter in \"platinum\":\n",
    "    if letter == \"p\":\n",
    "        purchase = \"pot belly pig\"\n",
    "    elif letter == \"l\":\n",
    "        purchase = \"lava lamp\"\n",
    "    elif letter == \"a\":\n",
    "        purchase = \"apricot colored pants\"\n",
    "    elif letter == \"t\":\n",
    "        purchase = \"tuna fish sandwich\"\n",
    "    elif letter == \"i\":\n",
    "        purchase = \"iguana\"\n",
    "    elif letter == \"n\":\n",
    "        purchase = \"no spill coffee cup\"\n",
    "    elif letter == \"u\":\n",
    "        purchase = \"unicycle\"\n",
    "    else:\n",
    "        purchase = \"moon rock\"\n",
    "    \n",
    "    print(f\"{letter} is for {purchase}\")"
   ]
  },
  {
   "cell_type": "code",
   "execution_count": 15,
   "metadata": {},
   "outputs": [
    {
     "name": "stdout",
     "output_type": "stream",
     "text": [
      "finally saved enough for a peloton bike!  it took 379.\n"
     ]
    }
   ],
   "source": [
    "# icebreaker 3:\n",
    "\n",
    "# set variables needed\n",
    "daily_contribution = 5\n",
    "total_saved = 0\n",
    "cost_of_peloton_bike = 1895\n",
    "days = 0\n",
    "\n",
    "while total_saved < cost_of_peloton_bike:\n",
    "    total_saved += daily_contribution\n",
    "    days += 1\n",
    "    \n",
    "print(f\"finally saved enough for a peloton bike!  it took {days} days.\")\n"
   ]
  },
  {
   "cell_type": "code",
   "execution_count": null,
   "metadata": {},
   "outputs": [],
   "source": []
  }
 ],
 "metadata": {
  "kernelspec": {
   "display_name": "Python 3",
   "language": "python",
   "name": "python3"
  },
  "language_info": {
   "codemirror_mode": {
    "name": "ipython",
    "version": 3
   },
   "file_extension": ".py",
   "mimetype": "text/x-python",
   "name": "python",
   "nbconvert_exporter": "python",
   "pygments_lexer": "ipython3",
   "version": "3.7.7"
  }
 },
 "nbformat": 4,
 "nbformat_minor": 4
}
