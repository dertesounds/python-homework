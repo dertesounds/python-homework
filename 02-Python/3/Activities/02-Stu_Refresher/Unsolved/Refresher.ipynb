{
 "cells": [
  {
   "cell_type": "code",
   "execution_count": 16,
   "metadata": {},
   "outputs": [
    {
     "ename": "SyntaxError",
     "evalue": "EOL while scanning string literal (<ipython-input-16-629488909cf7>, line 38)",
     "output_type": "error",
     "traceback": [
      "\u001b[0;36m  File \u001b[0;32m\"<ipython-input-16-629488909cf7>\"\u001b[0;36m, line \u001b[0;32m38\u001b[0m\n\u001b[0;31m    greeting = f\"greetings{first_name} {last_name} you have a revenue of {revenue} so your business is {tier}\u001b[0m\n\u001b[0m                                                                                                             ^\u001b[0m\n\u001b[0;31mSyntaxError\u001b[0m\u001b[0;31m:\u001b[0m EOL while scanning string literal\n"
     ]
    }
   ],
   "source": [
    "# -*- coding: utf-8 -*-\n",
    "\"\"\"Refresher activity.\n",
    "\n",
    "This script will use variables, conditionals, lists, dicts, and functions\n",
    "to print out different greetings for customers based on their\n",
    "business tier (determined by revenue).\n",
    "\"\"\"\n",
    "\n",
    "# List of dicts\n",
    "customers = [\n",
    "    { \"first_name\": \"Tom\", \"last_name\": \"Bell\", \"revenue\": 0 },\n",
    "    { \"first_name\": \"Maggie\", \"last_name\": \"Johnson\", \"revenue\": 1032 },\n",
    "    { \"first_name\": \"John\", \"last_name\": \"Spectre\", \"revenue\": 2543 },\n",
    "    { \"first_name\": \"Susy\", \"last_name\": \"Simmons\", \"revenue\": 5322 }\n",
    "]\n",
    "\n",
    "# @TODO Define a function that accepts a customer first_name, last_name, and\n",
    "# revenue and returns a custom greeting with the full name.\n",
    "# Use these ranges to determine the business tier (and corresponding message)\n",
    "# for each customer.\n",
    "#   Platinum = 3001+\n",
    "#   Gold = 2001-3000\n",
    "#   Silver = 1001-2000\n",
    "#   Bronze = 0-1000\n",
    "def create_greeting(first_name, last_name, revenue):\n",
    "    # @TODO: YOUR CODE HERE!\n",
    "    \n",
    "    tier = \"\"\n",
    "    if revenue >= 3001:\n",
    "        tier = \"platinum\"\n",
    "    elif revenue >= 2001 and revenue <= 3000:\n",
    "        tier = \"gold\"\n",
    "    elif revenue >= 1001 and revenue <=1000:\n",
    "        tier = \"silver\"\n",
    "    else:\n",
    "        tier = \"bronze\"\n",
    "         \n",
    "    greeting = f\"greetings{first_name} {last_name} you have a revenue of {revenue} so your business is {tier}\n",
    "    return greeting\n",
    "\n",
    "# @TODO: Loop through the list of customers and use your function to print\n",
    "# custom greetings for each customer.\n",
    "# @TODO: YOUR CODE HERE!\n",
    "\n"
   ]
  },
  {
   "cell_type": "code",
   "execution_count": 13,
   "metadata": {},
   "outputs": [
    {
     "name": "stdout",
     "output_type": "stream",
     "text": [
      "\n",
      "\n",
      "\n",
      "\n"
     ]
    }
   ],
   "source": [
    "for customer in customers:\n",
    "    greeting = create_greeting(customer[\"first_name\"],customer[\"last_name\"],customer[\"revenue\"])\n",
    "    \n",
    "    print(greeting)\n",
    "    "
   ]
  },
  {
   "cell_type": "code",
   "execution_count": 17,
   "metadata": {},
   "outputs": [],
   "source": [
    "# List of dicts\n",
    "customers = [\n",
    "    { \"first_name\": \"Tom\", \"last_name\": \"Bell\", \"revenue\": 0 },\n",
    "    { \"first_name\": \"Maggie\", \"last_name\": \"Johnson\", \"revenue\": 1032 },\n",
    "    { \"first_name\": \"John\", \"last_name\": \"Spectre\", \"revenue\": 2543 },\n",
    "    { \"first_name\": \"Susy\", \"last_name\": \"Simmons\", \"revenue\": 5322 }\n",
    "]\n"
   ]
  },
  {
   "cell_type": "code",
   "execution_count": 22,
   "metadata": {},
   "outputs": [],
   "source": [
    "# @TODO Define a function that accepts a customer first_name, last_name, and\n",
    "# revenue and returns a custom greeting with the full name.\n",
    "# Use these ranges to determine the business tier (and corresponding message)\n",
    "# for each customer.\n",
    "#   Platinum = 3001+\n",
    "#   Gold = 2001-3000\n",
    "#   Silver = 1001-2000\n",
    "#   Bronze = 0-1000\n",
    "def create_greeting(first_name, last_name, revenue):\n",
    "    # @TODO: YOUR CODE HERE!\n",
    "    \n",
    "    tier = \"\"\n",
    "    if revenue >= 3001:\n",
    "        tier = \"platinum\"\n",
    "    elif revenue >= 2001 and revenue <= 3000:\n",
    "        tier = \"gold\"\n",
    "    elif revenue >= 1001 and revenue <=1000:\n",
    "        tier = \"silver\"\n",
    "    else:\n",
    "        tier = \"bronze\"\n",
    "         \n",
    "    greeting = f\"greetings {first_name} {last_name} you have a revenue of {revenue} so your business is {tier}\"\n",
    "    \n",
    "    return greeting"
   ]
  },
  {
   "cell_type": "code",
   "execution_count": 23,
   "metadata": {},
   "outputs": [
    {
     "name": "stdout",
     "output_type": "stream",
     "text": [
      "greetings Tom Bell you have a revenue of 0 so your business is bronze\n",
      "greetings Maggie Johnson you have a revenue of 1032 so your business is bronze\n",
      "greetings John Spectre you have a revenue of 2543 so your business is gold\n",
      "greetings Susy Simmons you have a revenue of 5322 so your business is platinum\n"
     ]
    }
   ],
   "source": [
    "for customer in customers:\n",
    "    greeting = create_greeting(customer[\"first_name\"],customer[\"last_name\"],customer[\"revenue\"])\n",
    "    \n",
    "    print(greeting)"
   ]
  },
  {
   "cell_type": "code",
   "execution_count": null,
   "metadata": {},
   "outputs": [],
   "source": []
  }
 ],
 "metadata": {
  "kernelspec": {
   "display_name": "Python 3",
   "language": "python",
   "name": "python3"
  },
  "language_info": {
   "codemirror_mode": {
    "name": "ipython",
    "version": 3
   },
   "file_extension": ".py",
   "mimetype": "text/x-python",
   "name": "python",
   "nbconvert_exporter": "python",
   "pygments_lexer": "ipython3",
   "version": "3.8.3"
  }
 },
 "nbformat": 4,
 "nbformat_minor": 4
}
