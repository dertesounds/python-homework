{
 "cells": [
  {
   "cell_type": "code",
   "execution_count": 1,
   "metadata": {},
   "outputs": [
    {
     "name": "stdout",
     "output_type": "stream",
     "text": [
      "The future value of $10000 at an interest rate of 0.1 compounded 1 time(s) every year over 3 years is $13310.0\n"
     ]
    }
   ],
   "source": [
    "def calculate_future_value(present_value, interest_rate, compounding_periods, years):\n",
    "    \"\"\"\n",
    "    Calculates the future value of money given the present_value, interest rate, compounding period, and number of years.\n",
    "\n",
    "    Args:\n",
    "        present_value (float): The present value\n",
    "        interest_rate (float): The interest rate\n",
    "        periods (int): The compounding period\n",
    "        years (int): The number of years\n",
    "\n",
    "    Returns:\n",
    "        The future value of money.\n",
    "\n",
    "    \"\"\"\n",
    "\n",
    "    future_value = present_value * ((1 + (interest_rate / compounding_periods))**(compounding_periods * years))\n",
    "    future_value_formatted = round(future_value, 2)\n",
    "\n",
    "    return future_value_formatted\n",
    "\n",
    "# Set the values\n",
    "present_value = 10000\n",
    "interest_rate = .1\n",
    "compounding_periods = 1\n",
    "years = 3\n",
    "\n",
    "# Call the calculate_future_value() function\n",
    "calculated_future_value = calculate_future_value(present_value, interest_rate, compounding_periods, years)\n",
    "\n",
    "# Print out the future_value result\n",
    "print(f\"The future value of ${present_value} at an interest rate of {interest_rate} compounded {compounding_periods} time(s) every year over {years} years is ${calculated_future_value}\")"
   ]
  },
  {
   "cell_type": "code",
   "execution_count": null,
   "metadata": {},
   "outputs": [],
   "source": []
  }
 ],
 "metadata": {
  "kernelspec": {
   "display_name": "Python 3",
   "language": "python",
   "name": "python3"
  },
  "language_info": {
   "codemirror_mode": {
    "name": "ipython",
    "version": 3
   },
   "file_extension": ".py",
   "mimetype": "text/x-python",
   "name": "python",
   "nbconvert_exporter": "python",
   "pygments_lexer": "ipython3",
   "version": "3.8.3"
  }
 },
 "nbformat": 4,
 "nbformat_minor": 4
}
