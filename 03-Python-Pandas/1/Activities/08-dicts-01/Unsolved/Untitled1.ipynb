{
 "cells": [
  {
   "cell_type": "code",
   "execution_count": 1,
   "metadata": {},
   "outputs": [],
   "source": [
    "san_francisco = {\n",
    "     \"west_coast\": True,\n",
    "     \"has_multiple_bridges\": True,\n",
    "    \"known_for_pizza\": False,\n",
    "     \"coastal\": True,\n",
    "     \"snows\": False,\n",
    "     \"very_hot\": False,\n",
    "     \"mayor\": \"London Breed\",\n",
    "     \"state\": \"California\",\n",
    "     \"country\": \"USA\",\n",
    "     \"best_food\": \"burritos\",\n",
    "     \"sports_teams\": [\"Giants\", \"Warriors\", \"Forty-Niners\"],\n",
    "     \"tallest_building\": \"SalesForce Building\",\n",
    "     \"population\": 884363,\n",
    "     \"city_size\": \"large\",\n",
    "     \"median_house_price\": 1610000,\n",
    "     \"famous_residents\": [\"Maya Angelou\", \"Robert Frost\", \"Carlos Santana\"],\n",
    "     \"homeless_pop\": 1150,\n",
    "     \"political_leaning\": \"Democrat\",\n",
    "     \"notable_attractions\": [\"Alcatraz\", \"Golden Gate Bridge\", \"Fisherman's Wharf\"],\n",
    "    \"natural_disasters\": [\"Earthquakes\"],\n",
    " }"
   ]
  },
  {
   "cell_type": "code",
   "execution_count": null,
   "metadata": {},
   "outputs": [],
   "source": []
  },
  {
   "cell_type": "code",
   "execution_count": null,
   "metadata": {},
   "outputs": [],
   "source": []
  }
 ],
 "metadata": {
  "kernelspec": {
   "display_name": "Python 3",
   "language": "python",
   "name": "python3"
  },
  "language_info": {
   "codemirror_mode": {
    "name": "ipython",
    "version": 3
   },
   "file_extension": ".py",
   "mimetype": "text/x-python",
   "name": "python",
   "nbconvert_exporter": "python",
   "pygments_lexer": "ipython3",
   "version": "3.8.3"
  }
 },
 "nbformat": 4,
 "nbformat_minor": 4
}
